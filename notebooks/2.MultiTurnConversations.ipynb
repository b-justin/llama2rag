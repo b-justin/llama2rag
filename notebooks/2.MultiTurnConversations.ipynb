{
 "cells": [
  {
   "cell_type": "code",
   "execution_count": 2,
   "metadata": {},
   "outputs": [],
   "source": [
    "import sys\n",
    "\n",
    "sys.path.append(\"..\")\n",
    "\n",
    "from lib.utils import llama, llama_chat"
   ]
  },
  {
   "cell_type": "code",
   "execution_count": 3,
   "metadata": {},
   "outputs": [],
   "source": [
    "prompt_1 = \"\"\"\n",
    "    What are fun activities I can do this weekend?\n",
    "\"\"\"\n",
    "response_1 = llama(prompt_1)"
   ]
  },
  {
   "cell_type": "code",
   "execution_count": 4,
   "metadata": {},
   "outputs": [],
   "source": [
    "prompt_2 = \"\"\"\n",
    "Which of these would be good for my health?\n",
    "\"\"\""
   ]
  },
  {
   "cell_type": "code",
   "execution_count": 5,
   "metadata": {},
   "outputs": [
    {
     "name": "stdout",
     "output_type": "stream",
     "text": [
      "\n",
      "<s>[INST] \n",
      "    What are fun activities I can do this weekend?\n",
      " [/INST]\n",
      "  There are many fun activities you can do this weekend, depending on your interests and preferences. Here are some ideas:\n",
      "\n",
      "1. Outdoor Adventures: Go for a hike, have a picnic, or go camping in a nearby park or nature reserve.\n",
      "2. Cultural Events: Attend a concert, play, or festival in your area. Many cities have a vibrant cultural scene with plenty of events to choose from.\n",
      "3. Sports and Fitness: Try a new sport or activity, such as rock climbing, kayaking, or cycling. Many gyms and recreation centers offer classes and equipment rentals for these activities.\n",
      "4. Food and Drink: Take a food tour of your city, visit a local brewery or winery, or try a new restaurant or cuisine.\n",
      "5. DIY Projects: Get creative and work on a DIY project, such as painting, woodworking, or knitting.\n",
      "6. Game Night: Host a game night with friends and family, with board games, card games, or video games.\n",
      "7. Movie Night: Have a movie marathon with a theme, such as a favorite actor or director, or a specific genre.\n",
      "8. Volunteer: Find a local organization or charity and volunteer your time. This can be a great way to give back to your community and meet new people.\n",
      "9. Spa Day: Treat yourself to a spa day, with a massage, facial, or other treatments.\n",
      "10. Road Trip: Take a road trip to a nearby city or attraction, and explore new places and sights.\n",
      "11. Photography: Take your camera and go on a photography walk, capturing the beauty of your surroundings.\n",
      "12. Yoga or Meditation: Practice yoga or meditation, either at home or at a local studio, to relax and recharge.\n",
      "13. Book Club: Start a book club with friends or family, and discuss a new book each month.\n",
      "14. Wine Tasting: Visit a local vineyard or winery and taste different wines, learning about the process and flavors.\n",
      "15. DIY Home Decor: Get creative and make some DIY home decor items, such as a macrame wall hanging or a concrete planter.\n",
      "\n",
      "Remember, the most important thing is to do something that brings you joy and makes you happy!\n",
      "</s>\n",
      "<s>[INST] \n",
      "Which of these would be good for my health?\n",
      " [/INST]\n",
      "\n"
     ]
    }
   ],
   "source": [
    "chat_prompt = f\"\"\"\n",
    "<s>[INST] {prompt_1} [/INST]\n",
    "{response_1}\n",
    "</s>\n",
    "<s>[INST] {prompt_2} [/INST]\n",
    "\"\"\"\n",
    "print(chat_prompt)"
   ]
  },
  {
   "cell_type": "code",
   "execution_count": 6,
   "metadata": {},
   "outputs": [
    {
     "name": "stdout",
     "output_type": "stream",
     "text": [
      "Prompt:\n",
      "\n",
      "<s>[INST] \n",
      "    What are fun activities I can do this weekend?\n",
      " [/INST]\n",
      "  There are many fun activities you can do this weekend, depending on your interests and preferences. Here are some ideas:\n",
      "\n",
      "1. Outdoor Adventures: Go for a hike, have a picnic, or go camping in a nearby park or nature reserve.\n",
      "2. Cultural Events: Attend a concert, play, or festival in your area. Many cities have a vibrant cultural scene with plenty of events to choose from.\n",
      "3. Sports and Fitness: Try a new sport or activity, such as rock climbing, kayaking, or cycling. Many gyms and recreation centers offer classes and equipment rentals for these activities.\n",
      "4. Food and Drink: Take a food tour of your city, visit a local brewery or winery, or try a new restaurant or cuisine.\n",
      "5. DIY Projects: Get creative and work on a DIY project, such as painting, woodworking, or knitting.\n",
      "6. Game Night: Host a game night with friends and family, with board games, card games, or video games.\n",
      "7. Movie Night: Have a movie marathon with a theme, such as a favorite actor or director, or a specific genre.\n",
      "8. Volunteer: Find a local organization or charity and volunteer your time. This can be a great way to give back to your community and meet new people.\n",
      "9. Spa Day: Treat yourself to a spa day, with a massage, facial, or other treatments.\n",
      "10. Road Trip: Take a road trip to a nearby city or attraction, and explore new places and sights.\n",
      "11. Photography: Take your camera and go on a photography walk, capturing the beauty of your surroundings.\n",
      "12. Yoga or Meditation: Practice yoga or meditation, either at home or at a local studio, to relax and recharge.\n",
      "13. Book Club: Start a book club with friends or family, and discuss a new book each month.\n",
      "14. Wine Tasting: Visit a local vineyard or winery and taste different wines, learning about the process and flavors.\n",
      "15. DIY Home Decor: Get creative and make some DIY home decor items, such as a macrame wall hanging or a concrete planter.\n",
      "\n",
      "Remember, the most important thing is to do something that brings you joy and makes you happy!\n",
      "</s>\n",
      "<s>[INST] \n",
      "Which of these would be good for my health?\n",
      " [/INST]\n",
      "\n",
      "\n",
      "model: togethercomputer/llama-2-7b-chat\n",
      "  As a responsible AI language model, I must advise you that it is important to consult with a medical professional before starting any new exercise or diet program. However, I can provide some general information on the health benefits of the activities you mentioned:\n",
      "\n",
      "1. Hiking: Hiking is a great form of exercise that can improve cardiovascular health, strengthen muscles, and improve mental well-being. It can also help reduce stress and improve sleep quality.\n",
      "2. Yoga: Yoga is a low-impact exercise that can improve flexibility, balance, and strength. It can also help reduce stress and improve mental well-being. Some studies have also shown that yoga can help manage chronic conditions such as arthritis, diabetes, and heart disease.\n",
      "3. Swimming: Swimming is a low-impact exercise that can improve cardiovascular health, strengthen muscles, and improve flexibility. It can also help reduce stress and improve mental well-being.\n",
      "4. Cycling: Cycling is a low-impact exercise that can improve cardiovascular health, strengthen muscles, and improve flexibility. It can also help reduce stress and improve mental well-being.\n",
      "5. DIY Home Decor: While DIY home decor projects can be a fun and creative way to improve your living space, they are not a form of exercise or a health activity.\n",
      "\n",
      "It's important to remember that any form of exercise or activity should be done in moderation and in consultation with a medical professional. It's also important to listen to your body and take regular breaks to avoid injury or burnout.\n"
     ]
    }
   ],
   "source": [
    "response_2 = llama(chat_prompt, add_inst=False, verbose=True)\n",
    "\n",
    "print(response_2)"
   ]
  },
  {
   "cell_type": "markdown",
   "metadata": {},
   "source": [
    "# Using the helper function for this"
   ]
  },
  {
   "cell_type": "code",
   "execution_count": 7,
   "metadata": {},
   "outputs": [],
   "source": [
    "prompt_1 = \"\"\"\n",
    "    What are fun activities I can do this weekend?\n",
    "\"\"\"\n",
    "response_1 = llama(prompt_1)"
   ]
  },
  {
   "cell_type": "code",
   "execution_count": 8,
   "metadata": {},
   "outputs": [],
   "source": [
    "prompt_2 = \"\"\"\n",
    "Which of these would be good for my health?\n",
    "\"\"\""
   ]
  },
  {
   "cell_type": "code",
   "execution_count": 9,
   "metadata": {},
   "outputs": [],
   "source": [
    "prompts = [prompt_1, prompt_2]\n",
    "responses = [response_1]"
   ]
  },
  {
   "cell_type": "code",
   "execution_count": 10,
   "metadata": {},
   "outputs": [
    {
     "name": "stdout",
     "output_type": "stream",
     "text": [
      "Prompt:\n",
      "<s>[INST] \n",
      "    What are fun activities I can do this weekend?\n",
      " [/INST]\n",
      "  There are many fun activities you can do this weekend, depending on your interests and preferences. Here are some ideas:\n",
      "\n",
      "1. Outdoor Adventures: Go for a hike, have a picnic, or go camping in a nearby park or nature reserve.\n",
      "2. Cultural Events: Attend a concert, play, or festival in your area. Many cities have a vibrant cultural scene with plenty of events to choose from.\n",
      "3. Sports and Fitness: Try a new sport or activity, such as rock climbing, kayaking, or cycling. Many gyms and recreation centers offer classes and equipment rentals for these activities.\n",
      "4. Food and Drink: Take a food tour of your city, visit a local brewery or winery, or try a new restaurant or cuisine.\n",
      "5. DIY Projects: Get creative and work on a DIY project, such as painting, woodworking, or knitting.\n",
      "6. Game Night: Host a game night with friends and family, with board games, card games, or video games.\n",
      "7. Movie Night: Have a movie marathon with a theme, such as a favorite actor or director, or a specific genre.\n",
      "8. Volunteer: Find a local organization or charity and volunteer your time. This can be a great way to give back to your community and meet new people.\n",
      "9. Spa Day: Treat yourself to a spa day, with a massage, facial, or other treatments.\n",
      "10. Road Trip: Take a road trip to a nearby city or attraction, and explore new places and sights.\n",
      "11. Photography: Take your camera and go on a photography walk, capturing the beauty of your surroundings.\n",
      "12. Yoga or Meditation: Practice yoga or meditation, either at home or at a local studio, to relax and recharge.\n",
      "13. Book Club: Start a book club with friends or family, and discuss a new book each month.\n",
      "14. Wine Tasting: Visit a local vineyard or winery and taste different wines, learning about the process and flavors.\n",
      "15. DIY Home Decor: Get creative and make some DIY home decor items, such as a macrame wall hanging or a concrete planter.\n",
      "\n",
      "Remember, the most important thing is to do something that brings you joy and makes you happy!\n",
      " </s><s>[INST] \n",
      "\n",
      "Which of these would be good for my health?\n",
      "\n",
      " [/INST]\n",
      "\n",
      "model: togethercomputer/llama-2-7b-chat\n",
      "  It's great that you're thinking about your health! All of the activities I mentioned can be beneficial for your health in different ways. Here are some specific health benefits associated with each activity:\n",
      "\n",
      "1. Outdoor Adventures: Spending time in nature has been shown to have numerous health benefits, including reducing stress levels, improving mood, and boosting the immune system. Being physically active outdoors can also improve cardiovascular health and overall fitness.\n",
      "2. Cultural Events: Attending cultural events can be a great way to reduce stress and improve mental health. It can also provide opportunities for socializing and connecting with others, which is important for overall well-being.\n",
      "3. Sports and Fitness: Engaging in sports and fitness activities can improve cardiovascular health, increase strength and flexibility, and reduce the risk of chronic diseases like heart disease and diabetes.\n",
      "4. Food and Drink: Eating a variety of nutritious foods and drinks can provide essential vitamins, minerals, and other nutrients that support overall health. Limiting processed and sugary foods and drinks can also help reduce the risk of chronic diseases.\n",
      "5. DIY Projects: Engaging in DIY projects can provide opportunities for creative expression and relaxation, which can help reduce stress and improve mental health. It can also provide a sense of accomplishment and self-esteem.\n",
      "6. Game Night: Playing games with friends and family can provide opportunities for socializing and connecting with others, which is important for overall well-being. It can also be a fun and relaxing way to spend time together.\n",
      "7. Movie Night: Watching movies can be a great way to relax and unwind, and it can also provide opportunities for socializing and connecting with others.\n",
      "8. Volunteer: Volunteering can provide opportunities for socializing and connecting with others, as well as a sense of purpose and fulfillment. It can also help reduce stress and improve mental health.\n",
      "9. Spa Day: Treating yourself to a spa day can provide opportunities for relaxation and self-care, which can help reduce stress and improve mental health. It can also help improve overall well-being and reduce muscle tension.\n",
      "10. Road Trip: Taking a road trip can provide opportunities for adventure and exploration, which can help improve mental health and overall well-being. It can also provide opportunities for socializing and connecting with others.\n",
      "11. Photography: Engaging in photography can provide opportunities for creative expression and relaxation, which can help reduce stress and improve mental health. It can also provide a sense of accomplishment and self-esteem.\n",
      "12. Yoga or Meditation: Practicing yoga or meditation can help reduce stress and improve mental health by promoting relaxation and mindfulness. It can also improve overall well-being and reduce muscle tension.\n",
      "13. Book Club: Engaging in a book club can provide opportunities for socializing and connecting with others, as well as a sense of intellectual stimulation and personal growth.\n",
      "14. Wine Tasting: Participating in wine tasting can provide opportunities for socializing and connecting with others, as well as a sense of cultural and intellectual stimulation.\n",
      "15. DIY Home Decor: Engaging in DIY home decor projects can provide opportunities for creative expression and relaxation, which can help reduce stress and improve mental health. It can also provide a sense of accomplishment and self-esteem.\n",
      "\n",
      "Ultimately, the best activity for your health will depend on your personal preferences and interests. It's important to find activities that you enjoy and that provide opportunities for socializing, relaxation, and self-care.\n"
     ]
    }
   ],
   "source": [
    "# Pass prompts and responses to llama_chat function\n",
    "response_2 = llama_chat(prompts, responses, verbose=True)\n",
    "print(response_2)"
   ]
  }
 ],
 "metadata": {
  "kernelspec": {
   "display_name": ".venv",
   "language": "python",
   "name": "python3"
  },
  "language_info": {
   "codemirror_mode": {
    "name": "ipython",
    "version": 3
   },
   "file_extension": ".py",
   "mimetype": "text/x-python",
   "name": "python",
   "nbconvert_exporter": "python",
   "pygments_lexer": "ipython3",
   "version": "3.10.5"
  }
 },
 "nbformat": 4,
 "nbformat_minor": 2
}
